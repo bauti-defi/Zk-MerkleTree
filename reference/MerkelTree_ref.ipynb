{
  "cells": [
    {
      "cell_type": "code",
      "execution_count": null,
      "metadata": {
        "id": "dycKiObr3qrV"
      },
      "outputs": [],
      "source": [
        "class Hasher:\n",
        "\n",
        "  def set_left(self, left):\n",
        "    self.left = left\n",
        "\n",
        "  def set_right(self, right):\n",
        "    self.right = right\n",
        "\n",
        "  def out(self):\n",
        "    return self.left + self.right\n",
        "\n"
      ]
    },
    {
      "cell_type": "code",
      "execution_count": null,
      "metadata": {
        "id": "7q6xW1HL4m4x"
      },
      "outputs": [],
      "source": [
        "def hashTreeLevel(leaves, nodeCount):\n",
        "  hashers = [Hasher() for i in range(0, nodeCount)]\n",
        "  nodes = [ None for i in range(0, nodeCount)]\n",
        "\n",
        "  i = 0\n",
        "  n = 0\n",
        "  while i < nodeCount:\n",
        "    hashers[i].set_left(leaves[n])\n",
        "    hashers[i].set_right(leaves[n + 1])\n",
        "\n",
        "    nodes[i] = hashers[i].out()\n",
        "\n",
        "    i+= 1\n",
        "    n+= 2\n",
        "\n",
        "  return nodes\n",
        "\n",
        "\n",
        "\n",
        "class MerkleTreeLevel:\n",
        "\n",
        "  def __init__(self):\n",
        "    self.leaves = []\n",
        "\n",
        "  def leafCount(self, count):\n",
        "    self.leafCount = count\n",
        "\n",
        "  def nodeCount(self, count):\n",
        "    self.nodeCount = count\n",
        "\n",
        "  def leaf(self, leaf):\n",
        "    self.leaves.append(leaf)\n",
        "\n",
        "  def print_leaves(self):\n",
        "    print(self.leaves)\n",
        "\n",
        "  def nodes(self):\n",
        "    return hashTreeLevel(self.leaves, self.nodeCount)"
      ]
    },
    {
      "cell_type": "code",
      "execution_count": null,
      "metadata": {
        "colab": {
          "base_uri": "https://localhost:8080/"
        },
        "id": "N_-O77Af7QX_",
        "outputId": "2c912835-451e-4b0b-a4db-65bf8cd2e468"
      },
      "outputs": [],
      "source": [
        "level = MerkleTreeLevel()\n",
        "level.leafCount(2)\n",
        "level.nodeCount(1)\n",
        "level.leaf(1)\n",
        "level.leaf(2)\n",
        "level.nodes()"
      ]
    },
    {
      "cell_type": "code",
      "execution_count": null,
      "metadata": {
        "colab": {
          "base_uri": "https://localhost:8080/"
        },
        "id": "bIM_UAxB53Lt",
        "outputId": "05ea51d0-a6b4-41a2-acc4-ffff7e75f8b1"
      },
      "outputs": [],
      "source": [
        "level = MerkleTreeLevel()\n",
        "level.leafCount(4)\n",
        "level.nodeCount(2)\n",
        "level.leaf(1)\n",
        "level.leaf(2)\n",
        "level.leaf(3)\n",
        "level.leaf(4)\n",
        "level.nodes()"
      ]
    },
    {
      "cell_type": "code",
      "execution_count": null,
      "metadata": {
        "colab": {
          "base_uri": "https://localhost:8080/"
        },
        "id": "rQkalFOj6AI-",
        "outputId": "6b9eded5-8e5c-48b3-e95f-16cf216c3b7c"
      },
      "outputs": [],
      "source": [
        "level = MerkleTreeLevel()\n",
        "level.leafCount(8)\n",
        "level.nodeCount(4)\n",
        "level.leaf(1)\n",
        "level.leaf(2)\n",
        "level.leaf(3)\n",
        "level.leaf(4)\n",
        "level.leaf(5)\n",
        "level.leaf(6)\n",
        "level.leaf(7)\n",
        "level.leaf(8)\n",
        "level.nodes()"
      ]
    },
    {
      "cell_type": "code",
      "execution_count": null,
      "metadata": {
        "id": "7uN4NdPz6IMp"
      },
      "outputs": [],
      "source": [
        "def MerkleTree(_leaves, levels):\n",
        "  leaves = [_leaves[i] for i in range(0, 2**levels)]\n",
        "\n",
        "  merkleLevels = [MerkleTreeLevel() for i in range(0, levels)]\n",
        "\n",
        "  i = 0\n",
        "  while i < levels:\n",
        "    leafCount = 2**(levels - i)\n",
        "    nodeCount = 2**(levels - i - 1)\n",
        "\n",
        "    merkleLevels[i].leafCount(leafCount)\n",
        "    merkleLevels[i].nodeCount(nodeCount)\n",
        "\n",
        "    n = 0\n",
        "    while n < leafCount:\n",
        "      merkleLevels[i].leaf(leaves[n] if i == 0 else merkleLevels[i - 1].nodes()[n])\n",
        "      merkleLevels[i].print_leaves()\n",
        "      n+=1\n",
        "\n",
        "    i+=1\n",
        "\n",
        "  return merkleLevels[levels - 1].nodes()[0]\n"
      ]
    },
    {
      "cell_type": "code",
      "execution_count": null,
      "metadata": {
        "colab": {
          "base_uri": "https://localhost:8080/"
        },
        "id": "lW8M42w498hK",
        "outputId": "4d733485-5398-4cb4-abde-1ac9172a89ab"
      },
      "outputs": [],
      "source": [
        "MerkleTree([1,2], 1) == 3"
      ]
    },
    {
      "cell_type": "code",
      "execution_count": null,
      "metadata": {
        "colab": {
          "base_uri": "https://localhost:8080/"
        },
        "id": "vXHpdkEl9vZe",
        "outputId": "e8b82501-3890-4760-d963-479fc03fe6fb"
      },
      "outputs": [],
      "source": [
        "MerkleTree([1,2,3,4], 2) == 10"
      ]
    },
    {
      "cell_type": "code",
      "execution_count": null,
      "metadata": {
        "colab": {
          "base_uri": "https://localhost:8080/"
        },
        "id": "OqN6Lwon9_nN",
        "outputId": "ddee5b6b-fa53-456a-ba56-7b926e4e8456"
      },
      "outputs": [],
      "source": [
        "MerkleTree([1,2,3,4,5,6,7,8], 3) == 36"
      ]
    }
  ],
  "metadata": {
    "colab": {
      "provenance": []
    },
    "kernelspec": {
      "display_name": "Python 3",
      "name": "python3"
    },
    "language_info": {
      "name": "python",
      "version": "3.9.6"
    }
  },
  "nbformat": 4,
  "nbformat_minor": 0
}
